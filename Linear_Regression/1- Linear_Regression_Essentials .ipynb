{
 "cells": [
  {
   "cell_type": "markdown",
   "metadata": {
    "colab_type": "text",
    "id": "qte1zzpge-7L"
   },
   "source": [
    "# What you will learn\n",
    "Large amount of data are recorded every day in different fields, including marketing, bio-medical and security. To discover knowledge from these data, you need machine learning techniques, which are classified into two categories:\n",
    "\n",
    "**1. Unsupervised machine learning methods:**\n",
    "\n",
    "These include mainly clustering and principal component analysis methods. The goal of clustering is to identify pattern or groups of similar objects within a data set of interest. Principal component methods consist of summarizing and visualizing the most important information contained in a multivariate data set.\n",
    "\n",
    "These methods are “unsupervised” because we are not guided by a priori ideas of which variables or samples belong in which clusters or groups. The machine algorithm “learns” how to cluster or summarize the data.\n",
    "\n",
    "**2. Supervised machine learning methods:**\n",
    "\n",
    "Supervised learning consists of building mathematical models for predicting the outcome of future observations. Predictive models can be classified into two main groups:\n",
    "\n",
    "+ regression analysis for predicting a continuous variable. For example, you might want to predict life expectancy based on socio-economic indicators.\n",
    "\n",
    "+ Classification for predicting the class (or group) of individuals. For example, you might want to predict the probability of being diabetes-positive based on the glucose concentration in the plasma of patients.\n",
    "\n",
    "These methods are supervised because we build the model based on known outcome values. That is, the machine learns from known observation outcomes in order to predict the outcome of future cases.\n",
    "\n",
    "Here, we present a practical guide to machine learning methods for exploring data sets, as well as, for building predictive models.\n",
    "\n",
    "\n"
   ]
  },
  {
   "cell_type": "markdown",
   "metadata": {
    "colab_type": "text",
    "id": "LrKGSJWqgdEe"
   },
   "source": [
    "# Key features of the tutorials\n",
    "\n",
    "Our goal was to write a practical guide to machine learning for every one.\n",
    "\n",
    "The main parts of the book include:\n",
    "\n",
    "**Unsupervised learning methods,** to explore and discover knowledge from a large multivariate data set using clustering and principal component methods. You will learn hierarchical clustering, k-means, principal component analysis and correspondence analysis methods.\n",
    "\n",
    "**Regression analysis,** to predict a quantitative outcome value using linear regression and non-linear regression strategies.\n",
    "\n",
    "**Classification techniques,** to predict a qualitative outcome value using logistic regression, discriminant analysis, naive bayes classifier and support vector machines.\n",
    "Advanced machine learning methods, to build robust regression and classification models using k-nearest neighbors methods, decision tree models, ensemble methods (bagging, random forest and boosting)\n",
    "\n",
    "**Model selection methods,** to select automatically the best combination of predictor variables for building an optimal predictive model. These include, best subsets selection methods, stepwise regression and penalized regression (ridge, lasso and elastic net regression models). We also present principal component-based regression methods, which are useful when the data contain multiple correlated predictor variables.\n",
    "\n",
    "**Model validation and evaluation techniques** for measuring the performance of a predictive model.\n",
    "\n",
    "**Model diagnostics** for detecting and fixing a potential problems in a predictive model.\n",
    "The book presents the basic principles of these tasks and provide many examples in R. This book offers solid guidance in data mining for students and researchers.\n",
    "\n",
    "Key features:\n",
    "\n",
    "Covers machine learning algorithm and implementation\n",
    "Key mathematical concepts are presented\n",
    "Short, self-contained chapters with practical examples. This means that, you don’t need to read the different chapters in sequence."
   ]
  },
  {
   "cell_type": "markdown",
   "metadata": {
    "colab_type": "text",
    "id": "QX0gof0wegBA"
   },
   "source": [
    "# Regression Analysis"
   ]
  },
  {
   "cell_type": "markdown",
   "metadata": {
    "colab_type": "text",
    "id": "U32_q6RhiSZa"
   },
   "source": [
    "**Regression analysis (or regression model)** consists of a set of machine learning methods that allow us to predict a continuous outcome variable (y) based on the value of one or multiple predictor variables (x).\n",
    "\n",
    "Briefly, the goal of regression model is to build a mathematical equation that defines y as a function of the x variables. Next, this equation can be used to predict the outcome (y) on the basis of new values of the predictor variables (x).\n",
    "\n",
    "**Linear regression** is the most simple and popular technique for predicting a continuous variable. It assumes a linear relationship between the outcome and the predictor variables. See Chapter @ref(linear-regression).\n",
    "\n",
    "The linear regression equation can be written as y = b0 + b*x, where:\n",
    "\n",
    "+ b0 is the intercept,\n",
    "\n",
    "+ b is the regression weight or coefficient associated with the predictor variable x.\n",
    "\n",
    "Technically, the linear regression coefficients are detetermined so that the error in predicting the outcome value is minimized. This method of computing the beta coefficients is called the **Ordinary Least Squares method**.\n",
    "\n",
    "When you have multiple predictor variables, say x1 and x2, the regression equation can be written as *y = b0 + b1*x1 + b2*x2*. In some situations, there might be an **interaction effect** between some predictors, that is for example, increasing the value of a predictor variable x1 may increase the effectiveness of the predictor x2 in explaining the variation in the outcome variable. \n",
    "\n",
    "Note also that, linear regression models can incorporate both **continuous** and **categorical predictor variables**.\n",
    "\n",
    "When you build the linear regression model, you need to **diagnostic** whether linear model is suitable for your data. \n",
    "\n",
    "In some cases, the relationship between the outcome and the predictor variables is not linear. In these situations, you need to build a **non-linear regression**, such as polynomial and spline regression. \n",
    "\n",
    "When you have multiple predictors in the regression model, you might want to select the best combination of predictor variables to build an optimal predictive model. This process called **model selection**, consists of comparing multiple models containing different sets of predictors in order to select the best performing model that minimize the prediction error. Linear model selection approaches include best subsets regression  and stepwise regression .\n",
    "\n",
    "In some situations, such as in genomic fields, you might have a large multivariate data set containing some correlated predictors. In this case, the information, in the original data set, can be summarized into few new variables (called principal components) that are a linear combination of the original variables. This few principal components can be used to build a linear model, which might be more performant for your data. This approach is know as **principal component-based methods** , which include: **principal component regression** and **partial least squares regression**.\n",
    "\n",
    "An alternative method to simplify a large multivariate model is to use **penalized regression** , which penalizes the model for having too many variables. The most well known penalized regression include **ridge regression** and **the lasso regression**.\n",
    "\n",
    "You can apply all these different regression models on your data, compare the models and finally select the best approach that explains well your data. To do so, you need some statistical metrics to compare the performance of the different models in explaining your data and in predicting the outcome of new test data.\n",
    "\n",
    "The best model is defined as the model that has the lowest prediction error. The most popular metrics for comparing regression models, include:\n",
    "\n",
    "**Root Mean Squared Error**, which measures the model prediction error. It corresponds to the average difference between the observed known values of the outcome and the predicted value by the model. RMSE is computed as RMSE = mean((observeds - predicteds)^2) %>% sqrt(). The lower the RMSE, the better the model.\n",
    "\n",
    "**R-square**, representing the squared correlation between the observed known outcome values and the predicted values by the model. The higher the R2, the better the model.\n",
    "\n",
    "**Adjusted R-square**, representing the proportion of variation (i.e., information), in your data, explained by the model. This corresponds to the overall quality of the model. The higher the adjusted R2, the better the model.\n",
    "\n",
    "Note that, the above mentioned metrics should be computed on a new test data that has not been used to train (i.e. build) the model. If you have a large data set, with many records, you can randomly split the data into training set (80% for building the predictive model) and test set or validation set (20% for evaluating the model performance).\n",
    "\n",
    "One of the most robust and popular approach for estimating a model performance is **k-fold cross-validation**. It can be applied even on a small data set. k-fold cross-validation works as follow:\n",
    "\n",
    "1. Randomly split the data set into k-subsets (or k-fold) (for example 5 subsets)\n",
    "2. Reserve one subset and train the model on all other subsets\n",
    "3. Test the model on the reserved subset and record the prediction error\n",
    "4. Repeat this process until each of the k subsets has served as the test set.\n",
    "5. Compute the average of the k recorded errors. This is called the cross-validation error serving as the performance metric for the model."
   ]
  },
  {
   "cell_type": "markdown",
   "metadata": {
    "colab_type": "text",
    "id": "9fukCbeoqA3W"
   },
   "source": [
    "## Mehtod\n",
    "A simple workflow to build to build a predictive regression model is as follow:\n",
    "\n",
    "1. Randomly split your data into training set (80%) and test set (20%)\n",
    "2. Build the regression model using the training set\n",
    "3. Make predictions using the test set and compute the model accuracy metrics"
   ]
  },
  {
   "cell_type": "markdown",
   "metadata": {
    "colab_type": "text",
    "id": "AQTW7GgIqHbo"
   },
   "source": [
    "# Formula\n",
    "The mathematical formula of the linear regression can be written as follow:\n",
    "\n",
    "y = b0 + b1*x + e\n",
    "\n",
    "We read this as “y is modeled as beta1 (b1) times x, plus a constant beta0 (b0), plus an error term e.”\n",
    "\n",
    "When you have multiple predictor variables, the equation can be written as y = b0 + b1*x1 + b2*x2 + ... + bn*xn, where:\n",
    "\n",
    "+ b0 is the intercept,\n",
    "+ b1, b2, …, bn are the regression weights or coefficients associated with the predictors x1, x2, …, xn.\n",
    "+ e is the error term (also known as the residual errors), the part of y that can be explained by the regression model.\n",
    "\n",
    "the figure below illustrates a simple linear regression model, where:\n",
    "\n",
    "![](linear-regression.png)\n",
    "+ the best-fit regression line is in blue\n",
    "+ the intercept (b0) and the slope (b1) are shown in green\n",
    "+ the error terms (e) are represented by vertical red lines\n",
    "\n",
    "From the scatter plot above, it can be seen that not all the data points fall exactly on the fitted regression line. Some of the points are above the blue curve and some are below it; overall, **the residual errors (e) have approximately mean zero**.\n",
    "\n",
    "The sum of the squares of the residual errors are called the **Residual Sum of Squares** or **RSS**.\n",
    "\n",
    "The average variation of points around the fitted regression line is called the **Residual Standard Error (RSE)**. This is one the metrics used to evaluate the overall quality of the fitted regression model. The lower the RSE, the better it is.\n",
    "\n",
    "Since the mean error term is zero, the outcome variable y can be approximately estimated as follow:\n",
    "\n",
    "y ~ b0 + b1*x\n",
    "\n",
    "Mathematically, the beta coefficients (b0 and b1) are determined so that the RSS is as minimal as possible. This method of determining the beta coefficients is technically called **least squares regression** or **ordinary least squares (OLS) regression**.\n",
    "\n",
    "Once, the beta coefficients are calculated, a t-test is performed to check whether or not these coefficients are significantly different from zero. A non-zero beta coefficients means that there is a significant relationship between the predictors (x) and the outcome variable (y).\n"
   ]
  },
  {
   "cell_type": "markdown",
   "metadata": {
    "colab_type": "text",
    "id": "OHpvYAAvYMGv"
   },
   "source": [
    "## Applying marketing dataset"
   ]
  },
  {
   "cell_type": "code",
   "execution_count": 1,
   "metadata": {
    "colab": {
     "base_uri": "https://localhost:8080/",
     "height": 476
    },
    "colab_type": "code",
    "id": "ZyKzh5lpjmNs",
    "outputId": "4b15c1a4-4013-4985-87b4-9f5d69978986"
   },
   "outputs": [
    {
     "name": "stdout",
     "output_type": "stream",
     "text": [
      "                            OLS Regression Results                            \n",
      "==============================================================================\n",
      "Dep. Variable:                  sales   R-squared:                       0.897\n",
      "Model:                            OLS   Adj. R-squared:                  0.896\n",
      "Method:                 Least Squares   F-statistic:                     570.3\n",
      "Date:                Sun, 14 Jun 2020   Prob (F-statistic):           1.58e-96\n",
      "Time:                        23:52:56   Log-Likelihood:                -422.65\n",
      "No. Observations:                 200   AIC:                             853.3\n",
      "Df Residuals:                     196   BIC:                             866.5\n",
      "Df Model:                           3                                         \n",
      "Covariance Type:            nonrobust                                         \n",
      "==============================================================================\n",
      "                 coef    std err          t      P>|t|      [0.025      0.975]\n",
      "------------------------------------------------------------------------------\n",
      "const          3.5267      0.374      9.422      0.000       2.789       4.265\n",
      "youtube        0.0458      0.001     32.809      0.000       0.043       0.049\n",
      "facebook       0.1885      0.009     21.893      0.000       0.172       0.206\n",
      "newspaper     -0.0010      0.006     -0.177      0.860      -0.013       0.011\n",
      "==============================================================================\n",
      "Omnibus:                       60.414   Durbin-Watson:                   2.084\n",
      "Prob(Omnibus):                  0.000   Jarque-Bera (JB):              151.241\n",
      "Skew:                          -1.327   Prob(JB):                     1.44e-33\n",
      "Kurtosis:                       6.332   Cond. No.                         545.\n",
      "==============================================================================\n",
      "\n",
      "Warnings:\n",
      "[1] Standard Errors assume that the covariance matrix of the errors is correctly specified.\n"
     ]
    }
   ],
   "source": [
    "import pandas as pd\n",
    "import statsmodels.api as sm\n",
    "\n",
    "\n",
    "df = pd.read_csv(\"data/marketing.csv\" , index_col='Unnamed: 0')\n",
    "X = df[['youtube', 'facebook', 'newspaper']] # here we have 2 variables for the multiple linear regression. If you just want to use one variable for simple linear regression, then use X = df['Interest_Rate'] for example\n",
    "Y = df['sales']\n",
    "\n",
    "X = sm.add_constant(X) # adding a constant\n",
    "\n",
    "model = sm.OLS(Y, X).fit()\n",
    "predictions = model.predict(X) \n",
    "\n",
    "print_model = model.summary()\n",
    "print(print_model)\n",
    "\n"
   ]
  },
  {
   "cell_type": "markdown",
   "metadata": {},
   "source": []
  },
  {
   "cell_type": "markdown",
   "metadata": {
    "colab_type": "text",
    "id": "4RRUkebDqMAY"
   },
   "source": [
    "# Understanding summry of model\n",
    "\n",
    "## **model** \n",
    "shows the function call to compute the regression model.\n",
    " \n",
    "## **Residuals** \n",
    "shows the regression beta coefficient and their statistical significant. predictor variable that are significantly associated to the outcome variable are marked by stars.\n",
    " \n",
    "## **Estimate** \n",
    "the intercept b0 and the coefficient estimates associated to each predictor variable\n",
    " \n",
    "## **Std.error**\n",
    " the standard error of the coefficient  estimates. This represents accuracy of the coefficient. the larger the standard error, the less confident we are about the estimate.\n",
    " \n",
    "## **t value**\n",
    "the t-statistic is a coefficient estimate divided by the standard error of the estimate. column 2 / column3\n",
    " \n",
    "## **Pr(>|t|)** \n",
    "corresponding to the t-statistic. the smaller are more significant the estimate is.\n",
    " \n",
    "## **RSS , Residual Sum of Squares** \n",
    "the sum of the squares of the residual errors. RSE or model sigma corresponding to the prediction error. represent roughly the average between observed outcome values and the predicted values by the model. We are looking for lower RSE.\n",
    " \n",
    "## **RSE = Residual Standard Error** \n",
    "the average variation of the points around the fitting regression line (looking for Lower).\n",
    "\n",
    "The RSE (or model sigma), corresponding to the prediction error, represents roughly the average difference between the observed outcome values and the predicted values by the model. The lower the RSE the best the model fits to our data.\n",
    "\n",
    "Dividing the RSE by the average value of the outcome variable will give you the prediction error rate, which should be as small as possible.\n",
    " \n",
    "\n",
    " also known as the model sigma, is a variant of the RMSE adjusted for the number of predictors in the model. The lower the RSE, the better the model. In practice, the difference between RMSE and RSE is very small, particularly for large multivariate data.\n",
    "\n",
    "## **R squared** \n",
    "R-squared is a statistical measure of how close the data are to the fitted regression line. It is also known as the coefficient of determination, or the coefficient of multiple determination for multiple regression.\n",
    " \n",
    "The definition of R-squared is fairly straight-forward; it is the percentage of the response variable variation that is explained by a linear model. Or:\n",
    " \n",
    "R-squared = Explained variation / Total variation\n",
    " \n",
    "R-squared is always between 0 and 100%:\n",
    " \n",
    "   * 0% indicates that the model explains none of the variability of the response data around its mean.\n",
    " \n",
    "   * 100% indicates that the model explains all the variability of the response data around its mean.\n",
    " \n",
    "R2 shows how well the model fits the data. We are looking for higher R Squared.\n",
    " \n",
    "In general, the higher the R-squared, the better the model fits your data. However, there are important conditions for this guideline that I’ll talk about both in this post and my next post.\n",
    " \n",
    " The R-squared (R2) ranges from 0 to 1 and represents the proportion of variation in the outcome variable that can be explained by the model predictor variables.\n",
    "\n",
    "For a simple linear regression, R2 is the square of the Pearson correlation coefficient between the outcome and the predictor variables. In multiple linear regression, the R2 represents the correlation coefficient between the observed outcome values and the predicted values.\n",
    "\n",
    "The R2 measures, how well the model fits the data. The higher the R2, the better the model. However, a problem with the R2, is that, it will always increase when more variables are added to the model, even if those variables are only weakly associated with the outcome (James et al. 2014). A solution is to adjust the R2 by taking into account the number of predictor variables.\n",
    "\n",
    "The adjustment in the “Adjusted R Square” value in the summary output is a correction for the number of x variables included in the predictive model.\n",
    "\n",
    "So, you should mainly consider the adjusted R-squared, which is a penalized R2 for a higher number of predictors.\n",
    "\n",
    "An (adjusted) R2 that is close to 1 indicates that a large proportion of the variability in the outcome has been explained by the regression model.\n",
    "A number near 0 indicates that the regression model did not explain much of the variability in the outcome.\n",
    "\n",
    "\n",
    "R-squared (R2), which is the proportion of variation in the outcome that is explained by the predictor variables. In multiple regression models, R2 corresponds to the squared correlation between the observed outcome values and the predicted values by the model. The Higher the R-squared, the better the model.\n",
    "\n",
    "## **F-statistic** \n",
    "An F statistic is a value you get when you run an ANOVA test or a regression analysis to find out if the means between two populations are significantly different.\n",
    "F-statistic gives the overall significance of the model. it assess at least one predictor variable has a non-zero coefficient.\n",
    "\n",
    "Recall that, the F-statistic gives the overall significance of the model. It assess whether at least one predictor variable has a non-zero coefficient.\n",
    "\n",
    "In a simple linear regression, this test is not really interesting since it just duplicates the information given by the t-test, available in the coefficient table.\n",
    "\n",
    "The F-statistic becomes more important once we start using multiple predictors as in multiple linear regression.\n",
    "\n",
    "\n",
    "**It would be very useful for multiple linear regression.**\n",
    " \n",
    " \n",
    " \n",
    "## **Adjusted R-squared** \n",
    "The summary output is a correction for the number of x variables included in the predictive model which penalizes R2 for a higher number of predictors.\n",
    "if 1 -> the variability in the outcome has been explained by the regression model.\n",
    " \n",
    "if 0 -> the variability in the outcome has **not** been explained by the regression model.\n",
    "\n",
    "## **Root Mean Squared Error (RMSE)**, \n",
    "which measures the average error performed by the model in predicting the outcome for an observation. Mathematically, the RMSE is the square root of the mean squared error (MSE), which is the average squared difference between the observed actual outome values and the values predicted by the model. So, MSE = mean((observeds - predicteds)^2) and RMSE = sqrt(MSE). The lower the RMSE, the better the model.\n",
    "\n",
    "## **Mean Absolute Error (MAE)**, \n",
    "like the RMSE, the MAE measures the prediction error. Mathematically, it is the average absolute difference between observed and predicted outcomes, MAE = mean(abs(observeds - predicteds)). MAE is less sensitive to outliers compared to RMSE."
   ]
  },
  {
   "cell_type": "markdown",
   "metadata": {
    "colab_type": "text",
    "id": "MkW6jSO2LtSl"
   },
   "source": [
    "## Making predictions\n",
    "We’ll make predictions using the test data in order to evaluate the performance of our regression model.\n",
    "\n",
    "The procedure is as follow:\n",
    "\n",
    "1. Predict the sales values based on new advertising budgets in the test data\n",
    "2. Assess the model performance by computing:\n",
    "    \n",
    "    2.1. The prediction error RMSE (Root Mean Squared Error), representing the average difference between the observed known outcome values in the test data and the predicted outcome values by the model. The lower the RMSE, the better the model.\n",
    "    \n",
    "    2.2. The R-square (R2), representing the correlation between the observed outcome values and the predicted outcome values. The higher the R2, the better the model.\n",
    "    \n",
    "    \n",
    "# Model performance metrics\n",
    "In regression model, the most commonly known evaluation metrics include:\n",
    "\n",
    "**R-squared (R2)**, which is the proportion of variation in the outcome that is explained by the predictor variables. In multiple regression models, R2 corresponds to the squared correlation between the observed outcome values and the predicted values by the model. The Higher the R-squared, the better the model.\n",
    "\n",
    "**Root Mean Squared Error (RMSE)**, which measures the average error performed by the model in predicting the outcome for an observation. Mathematically, the RMSE is the square root of the mean squared error (MSE), which is the average squared difference between the observed actual outome values and the values predicted by the model. So, MSE = mean((observeds - predicteds)^2) and RMSE = sqrt(MSE). The lower the RMSE, the better the model.\n",
    "\n",
    "**Residual Standard Error (RSE)**, also known as the model sigma, is a variant of the RMSE adjusted for the number of predictors in the model. The lower the RSE, the better the model. In practice, the difference between RMSE and RSE is very small, particularly for large multivariate data.\n",
    "\n",
    "**Mean Absolute Error (MAE)**, like the RMSE, the MAE measures the prediction error. Mathematically, it is the average absolute difference between observed and predicted outcomes, MAE = mean(abs(observeds - predicteds)). MAE is less sensitive to outliers compared to RMSE.\n",
    "\n",
    "The problem with the above metrics, is that they are sensible to the inclusion of additional variables in the model, even if those variables dont have significant contribution in explaining the outcome. Put in other words, including additional variables in the model will always increase the R2 and reduce the RMSE. So, we need a more robust metric to guide the model choice.\n",
    "\n",
    "**Adjusted R-squared**, Concerning R2, there is an adjusted version, called Adjusted R-squared, which adjusts the R2 for having too many variables in the model.\n",
    "\n",
    "Additionally, there are four other important metrics - AIC, AICc, BIC and Mallows Cp - that are commonly used for model evaluation and selection. These are an unbiased estimate of the model prediction error MSE. The lower these metrics, he better the model.\n",
    "\n",
    "**AIC stands for (Akaike’s Information Criteria)**, a metric developped by the Japanese Statistician, Hirotugu Akaike, 1970. The basic idea of AIC is to penalize the inclusion of additional variables to a model. It adds a penalty that increases the error when including additional terms. The lower the AIC, the better the model.\n",
    "AICc is a version of AIC corrected for small sample sizes.\n",
    "\n",
    "**BIC (or Bayesian information criteria)** is a variant of AIC with a stronger penalty for including additional variables to the model.\n",
    "\n",
    "**Mallows Cp**: A variant of AIC developed by Colin Mallows.\n",
    "\n",
    "    \n",
    "## Generally, the most commonly used metrics, for measuring regression model quality and for comparing models, are: Adjusted R2, AIC, BIC and Cp."
   ]
  },
  {
   "cell_type": "markdown",
   "metadata": {
    "colab_type": "text",
    "id": "g0G_OOPfnWfu"
   },
   "source": [
    "## R2 is very great.\n",
    "\n",
    "RMSE is 1.58, representing an error rate of \n",
    "\n",
    "\n",
    "1. [MAE] ≤ [RMSE]. The RMSE result will always be larger or equal to the MAE. If all of the errors have the same magnitude, then RMSE=MAE.\n",
    "\n",
    "2. [RMSE] ≤ [MAE * sqrt(n)], where n is the number of test samples. The difference between RMSE and MAE is greatest when all of the prediction error comes from a single test sample. The squared error then equals to [MAE^2 * n] for that single test sample and 0 for all other samples. Taking the square root, RMSE then equals to [MAE * sqrt(n)]."
   ]
  },
  {
   "cell_type": "markdown",
   "metadata": {
    "colab_type": "text",
    "id": "yp2WJBnXnjCe"
   },
   "source": [
    "# Simple Linear regression\n",
    "\n",
    "The simple linear regression is used to predict a continuous outcome variable (y) based on one single predictor variable (x).\n",
    "\n",
    "In the following example, we’ll build a simple linear model to predict sales units based on the advertising budget spent on youtube. The regression equation can be written as sales = b0 + b1*youtube.\n",
    "\n",
    "The R function lm() can be used to determine the beta coefficients of the linear model, as follow:"
   ]
  },
  {
   "cell_type": "code",
   "execution_count": 2,
   "metadata": {
    "colab": {
     "base_uri": "https://localhost:8080/",
     "height": 442
    },
    "colab_type": "code",
    "id": "pI34VUEiuVRr",
    "outputId": "ef780f5f-b2cc-48fc-8a0f-01e68979054a"
   },
   "outputs": [
    {
     "name": "stdout",
     "output_type": "stream",
     "text": [
      "                            OLS Regression Results                            \n",
      "==============================================================================\n",
      "Dep. Variable:                  sales   R-squared:                       0.612\n",
      "Model:                            OLS   Adj. R-squared:                  0.610\n",
      "Method:                 Least Squares   F-statistic:                     312.1\n",
      "Date:                Sun, 14 Jun 2020   Prob (F-statistic):           1.47e-42\n",
      "Time:                        23:52:56   Log-Likelihood:                -555.51\n",
      "No. Observations:                 200   AIC:                             1115.\n",
      "Df Residuals:                     198   BIC:                             1122.\n",
      "Df Model:                           1                                         \n",
      "Covariance Type:            nonrobust                                         \n",
      "==============================================================================\n",
      "                 coef    std err          t      P>|t|      [0.025      0.975]\n",
      "------------------------------------------------------------------------------\n",
      "const          8.4391      0.549     15.360      0.000       7.356       9.523\n",
      "youtube        0.0475      0.003     17.668      0.000       0.042       0.053\n",
      "==============================================================================\n",
      "Omnibus:                        0.531   Durbin-Watson:                   1.935\n",
      "Prob(Omnibus):                  0.767   Jarque-Bera (JB):                0.669\n",
      "Skew:                          -0.089   Prob(JB):                        0.716\n",
      "Kurtosis:                       2.779   Cond. No.                         406.\n",
      "==============================================================================\n",
      "\n",
      "Warnings:\n",
      "[1] Standard Errors assume that the covariance matrix of the errors is correctly specified.\n"
     ]
    }
   ],
   "source": [
    "import pandas as pd\n",
    "import statsmodels.api as sm\n",
    "\n",
    "\n",
    "df = pd.read_csv(\"data/marketing.csv\" , index_col='Unnamed: 0')\n",
    "X = df[['youtube']] # here we have 2 variables for the multiple linear regression. If you just want to use one variable for simple linear regression, then use X = df['Interest_Rate'] for example\n",
    "Y = df['sales']\n",
    "\n",
    "X = sm.add_constant(X) # adding a constant\n",
    "\n",
    "model = sm.OLS(Y, X).fit()\n",
    "predictions = model.predict(X) \n",
    "\n",
    "print(model.summary())\n",
    "\n"
   ]
  },
  {
   "cell_type": "markdown",
   "metadata": {},
   "source": [
    "## Coefficients significance\n",
    "\n",
    "\n",
    "The coefficients table, in the model statistical summary, shows:\n",
    "\n",
    "the estimates of the beta coefficients\n",
    "the standard errors (SE), which defines the accuracy of beta coefficients. For a given beta coefficient, the SE reflects how the coefficient varies under repeated sampling. It can be used to compute the confidence intervals and the t-statistic.\n",
    "the t-statistic and the associated p-value, which defines the statistical significance of the beta coefficients.\n",
    "\n",
    "\n",
    "\n",
    "## t-statistic and p-values:\n",
    "\n",
    "For a given predictor, the t-statistic (and its associated p-value) tests whether or not there is a statistically significant relationship between a given predictor and the outcome variable, that is whether or not the beta coefficient of the predictor is significantly different from zero.\n",
    "\n",
    "The statistical hypotheses are as follow:\n",
    "\n",
    "Null hypothesis (H0): the coefficients are equal to zero (i.e., no relationship between x and y)\n",
    "Alternative Hypothesis (Ha): the coefficients are not equal to zero (i.e., there is some relationship between x and y)\n",
    "Mathematically, for a given beta coefficient (b), the t-test is computed as t = (b - 0)/SE(b), where SE(b) is the standard error of the coefficient b. The t-statistic measures the number of standard deviations that b is away from 0. Thus a large t-statistic will produce a small p-value.\n",
    "\n",
    "The higher the t-statistic (and the lower the p-value), the more significant the predictor. The symbols to the right visually specifies the level of significance. The line below the table shows the definition of these symbols; one star means 0.01 < p < 0.05. The more the stars beside the variable’s p-value, the more significant the variable.\n",
    "\n",
    "A statistically significant coefficient indicates that there is an association between the predictor (x) and the outcome (y) variable."
   ]
  },
  {
   "cell_type": "code",
   "execution_count": 3,
   "metadata": {
    "colab": {
     "base_uri": "https://localhost:8080/",
     "height": 136
    },
    "colab_type": "code",
    "id": "3Yl1bTXQnvp2",
    "outputId": "8a821e3a-af74-4c59-fccc-7eed480ace95"
   },
   "outputs": [
    {
     "name": "stdout",
     "output_type": "stream",
     "text": [
      "Parameters:  const      8.439112\n",
      "youtube    0.047537\n",
      "dtype: float64\n",
      "R2:  0.6118750508500711\n",
      "Pvalues:  const      1.406300e-35\n",
      "youtube    1.467390e-42\n",
      "dtype: float64\n"
     ]
    }
   ],
   "source": [
    "print('Parameters: ', model.params)\n",
    "print('R2: ', model.rsquared)\n",
    "print('Pvalues: ', model.pvalues)"
   ]
  },
  {
   "cell_type": "markdown",
   "metadata": {
    "colab_type": "text",
    "id": "5LKjWueY1Wwd"
   },
   "source": [
    "## Another example with sklearn"
   ]
  },
  {
   "cell_type": "code",
   "execution_count": 4,
   "metadata": {
    "colab": {
     "base_uri": "https://localhost:8080/",
     "height": 170
    },
    "colab_type": "code",
    "id": "xnvhAtlugOe4",
    "outputId": "9d0b6075-1d47-4cae-827f-9f8cd8765d37"
   },
   "outputs": [
    {
     "name": "stdout",
     "output_type": "stream",
     "text": [
      "          youtube    facebook   newspaper       sales\n",
      "count  200.000000  200.000000  200.000000  200.000000\n",
      "mean   176.451000   27.916800   36.664800   16.827000\n",
      "std    103.025084   17.816171   26.134345    6.260948\n",
      "min      0.840000    0.000000    0.360000    1.920000\n",
      "25%     89.250000   11.970000   15.300000   12.450000\n",
      "50%    179.700000   27.480000   30.900000   15.480000\n",
      "75%    262.590000   43.830000   54.120000   20.880000\n",
      "max    355.680000   59.520000  136.800000   32.400000\n",
      "<class 'pandas.core.frame.DataFrame'>\n",
      "Int64Index: 200 entries, 45 to 183\n",
      "Data columns (total 4 columns):\n",
      " #   Column     Non-Null Count  Dtype  \n",
      "---  ------     --------------  -----  \n",
      " 0   youtube    200 non-null    float64\n",
      " 1   facebook   200 non-null    float64\n",
      " 2   newspaper  200 non-null    float64\n",
      " 3   sales      200 non-null    float64\n",
      "dtypes: float64(4)\n",
      "memory usage: 7.8 KB\n",
      "None\n"
     ]
    }
   ],
   "source": [
    "import pandas as pd  \n",
    "import numpy as np  \n",
    "import matplotlib.pyplot as plt  \n",
    "from sklearn.utils import shuffle\n",
    "\n",
    "import seaborn as seabornInstance \n",
    "from sklearn.model_selection import train_test_split \n",
    "from sklearn.linear_model import LinearRegression\n",
    "from sklearn import metrics\n",
    "%matplotlib inline\n",
    "dataset = pd.read_csv('data/marketing.csv' , index_col='Unnamed: 0' )\n",
    "dataset = shuffle(dataset)\n",
    "print(dataset.describe())\n",
    "print(dataset.info())"
   ]
  },
  {
   "cell_type": "code",
   "execution_count": 5,
   "metadata": {
    "colab": {
     "base_uri": "https://localhost:8080/",
     "height": 901
    },
    "colab_type": "code",
    "id": "RJOso4AQgUEi",
    "outputId": "9a6abd91-de5a-46a9-9586-439c7a3b4d31"
   },
   "outputs": [
    {
     "data": {
      "image/png": "[encoded data removed]",
      "text/plain": [
       "<Figure size 432x288 with 1 Axes>"
      ]
     },
     "metadata": {
      "needs_background": "light"
     },
     "output_type": "display_data"
    },
    {
     "data": {
      "text/plain": [
       "<matplotlib.axes._subplots.AxesSubplot at 0x7f6ac0ffad10>"
      ]
     },
     "execution_count": 5,
     "metadata": {},
     "output_type": "execute_result"
    },
    {
     "data": {
      "image/png": "[encoded data removed]",
      "text/plain": [
       "<Figure size 1080x720 with 1 Axes>"
      ]
     },
     "metadata": {
      "needs_background": "light"
     },
     "output_type": "display_data"
    }
   ],
   "source": [
    "## visualize dataset\n",
    "dataset.plot(x='youtube', y='sales', style='o')  \n",
    "plt.title('youtube vs sales')  \n",
    "plt.xlabel('youtube')  \n",
    "plt.ylabel('sales')  \n",
    "plt.show()\n",
    "\n",
    "\n",
    "plt.figure(figsize=(15,10))\n",
    "plt.tight_layout()\n",
    "seabornInstance.distplot(dataset['sales'])"
   ]
  },
  {
   "cell_type": "markdown",
   "metadata": {
    "colab_type": "text",
    "id": "hRU4IAfigZfs"
   },
   "source": [
    "## Split data and fit model"
   ]
  },
  {
   "cell_type": "code",
   "execution_count": 6,
   "metadata": {
    "colab": {
     "base_uri": "https://localhost:8080/",
     "height": 51
    },
    "colab_type": "code",
    "id": "1_J1NeVqgbQm",
    "outputId": "4a540d1c-a819-4885-b386-1da4df58fe22"
   },
   "outputs": [
    {
     "name": "stdout",
     "output_type": "stream",
     "text": [
      "To retrieve the intercept:  [8.22943083]\n",
      "For retrieving the slope:  [[0.04876946]]\n"
     ]
    }
   ],
   "source": [
    "X = dataset['youtube'].values.reshape(-1,1)\n",
    "y = dataset['sales'].values.reshape(-1,1)\n",
    "X_train, X_test, y_train, y_test = train_test_split(X, y, test_size=0.2, random_state=0)\n",
    "regressor = LinearRegression().fit(X_train, y_train) #training the algorithm\n",
    "#To retrieve the intercept:\n",
    "print(\"To retrieve the intercept: \" , regressor.intercept_)\n",
    "#For retrieving the slope:\n",
    "print(\"For retrieving the slope: \" , regressor.coef_)\n"
   ]
  },
  {
   "cell_type": "markdown",
   "metadata": {},
   "source": [
    "# K-fold cross-validation\n",
    "\n",
    "R2, RMSE and MAE are used to measure the regression model performance during cross-validation.\n",
    "\n",
    "\n",
    "# Cross-validation methods\n",
    "\n",
    "Briefly, cross-validation algorithms can be summarized as follow:\n",
    "\n",
    "1. Reserve a small sample of the data set\n",
    "2. Build (or train) the model using the remaining part of the data set\n",
    "3. Test the effectiveness of the model on the the reserved sample of the data set. If the model works well on the test data set, then it’s good.\n",
    "\n",
    "The k-fold cross-validation method evaluates the model performance on different subset of the training data and then calculate the average prediction error rate. The algorithm is as follow:\n",
    "\n",
    "1. Randomly split the data set into k-subsets (or k-fold) (for example 5 subsets)\n",
    "2. Reserve one subset and train the model on all other subsets\n",
    "3. Test the model on the reserved subset and record the prediction error\n",
    "4. Repeat this process until each of the k subsets has served as the test set.\n",
    "5. Compute the average of the k recorded errors. This is called the cross-validation error serving as the performance metric for the model.\n",
    "\n",
    "K-fold cross-validation (CV) is a robust method for estimating the accuracy of a model.\n",
    "\n",
    "The most obvious advantage of k-fold CV compared to LOOCV is computational. A less obvious but potentially more important advantage of k-fold CV is that it often gives more accurate estimates of the test error rate than does LOOCV (James et al. 2014).\n",
    "\n",
    "## Typical question, is how to choose right value of k?\n",
    "\n",
    "Lower value of K is more biased and hence undesirable. On the other hand, higher value of K is less biased, but can suffer from large variability. It is not hard to see that a smaller value of k (say k = 2) always takes us towards validation set approach, whereas a higher value of k (say k = number of data points) leads us to LOOCV approach.\n",
    "\n",
    "In practice, one typically performs k-fold cross-validation using k = 5 or k = 10, as these values have been shown empirically to yield test error rate estimates that suffer neither from excessively high bias nor from very high variance."
   ]
  },
  {
   "cell_type": "code",
   "execution_count": 7,
   "metadata": {},
   "outputs": [
    {
     "data": {
      "text/plain": [
       "array([0.55840542, 0.70489954, 0.24639399, 0.66561999, 0.67156473])"
      ]
     },
     "execution_count": 7,
     "metadata": {},
     "output_type": "execute_result"
    }
   ],
   "source": [
    "from sklearn.model_selection import cross_val_score\n",
    "cross_val_score(regressor, X_train, y_train, cv=5)"
   ]
  },
  {
   "cell_type": "markdown",
   "metadata": {},
   "source": [
    "# Bootstrap Resampling \n",
    "\n",
    "Similarly to cross-validation techniques , the bootstrap resampling method can be used to measure the accuracy of a predictive model. Additionally, it can be used to measure the uncertainty associated with any statistical estimator.\n",
    "\n",
    "Bootstrap resampling consists of repeatedly selecting a sample of n observations from the original data set, and to evaluate the model on each copy. An average standard error is then calculated and the results provide an indication of the overall variance of the model performance.\n",
    "\n",
    "This chapter describes the basics of bootstrapping and provides practical examples in R for computing a model prediction error. Additionally, we’ll show you how to compute an estimator uncertainty using bootstrap techniques."
   ]
  },
  {
   "cell_type": "code",
   "execution_count": 8,
   "metadata": {
    "colab": {
     "base_uri": "https://localhost:8080/",
     "height": 204
    },
    "colab_type": "code",
    "id": "y9qUXAHugjvh",
    "outputId": "d5c502e3-b6b8-4e33-e14b-7ade893f7fbb"
   },
   "outputs": [
    {
     "data": {
      "text/html": [
       "<div>\n",
       "<style scoped>\n",
       "    .dataframe tbody tr th:only-of-type {\n",
       "        vertical-align: middle;\n",
       "    }\n",
       "\n",
       "    .dataframe tbody tr th {\n",
       "        vertical-align: top;\n",
       "    }\n",
       "\n",
       "    .dataframe thead th {\n",
       "        text-align: right;\n",
       "    }\n",
       "</style>\n",
       "<table border=\"1\" class=\"dataframe\">\n",
       "  <thead>\n",
       "    <tr style=\"text-align: right;\">\n",
       "      <th></th>\n",
       "      <th>Actual</th>\n",
       "      <th>Predicted</th>\n",
       "    </tr>\n",
       "  </thead>\n",
       "  <tbody>\n",
       "    <tr>\n",
       "      <th>0</th>\n",
       "      <td>15.84</td>\n",
       "      <td>16.200311</td>\n",
       "    </tr>\n",
       "    <tr>\n",
       "      <th>1</th>\n",
       "      <td>18.24</td>\n",
       "      <td>19.536142</td>\n",
       "    </tr>\n",
       "    <tr>\n",
       "      <th>2</th>\n",
       "      <td>11.40</td>\n",
       "      <td>9.727629</td>\n",
       "    </tr>\n",
       "    <tr>\n",
       "      <th>3</th>\n",
       "      <td>14.76</td>\n",
       "      <td>22.263330</td>\n",
       "    </tr>\n",
       "    <tr>\n",
       "      <th>4</th>\n",
       "      <td>14.88</td>\n",
       "      <td>14.655295</td>\n",
       "    </tr>\n",
       "    <tr>\n",
       "      <th>5</th>\n",
       "      <td>14.40</td>\n",
       "      <td>23.615219</td>\n",
       "    </tr>\n",
       "    <tr>\n",
       "      <th>6</th>\n",
       "      <td>20.76</td>\n",
       "      <td>19.413243</td>\n",
       "    </tr>\n",
       "    <tr>\n",
       "      <th>7</th>\n",
       "      <td>11.64</td>\n",
       "      <td>13.935457</td>\n",
       "    </tr>\n",
       "    <tr>\n",
       "      <th>8</th>\n",
       "      <td>11.40</td>\n",
       "      <td>10.072916</td>\n",
       "    </tr>\n",
       "    <tr>\n",
       "      <th>9</th>\n",
       "      <td>15.12</td>\n",
       "      <td>12.624534</td>\n",
       "    </tr>\n",
       "    <tr>\n",
       "      <th>10</th>\n",
       "      <td>15.36</td>\n",
       "      <td>18.588064</td>\n",
       "    </tr>\n",
       "    <tr>\n",
       "      <th>11</th>\n",
       "      <td>15.48</td>\n",
       "      <td>13.397043</td>\n",
       "    </tr>\n",
       "    <tr>\n",
       "      <th>12</th>\n",
       "      <td>22.80</td>\n",
       "      <td>18.254480</td>\n",
       "    </tr>\n",
       "    <tr>\n",
       "      <th>13</th>\n",
       "      <td>18.84</td>\n",
       "      <td>22.234068</td>\n",
       "    </tr>\n",
       "    <tr>\n",
       "      <th>14</th>\n",
       "      <td>26.64</td>\n",
       "      <td>22.912939</td>\n",
       "    </tr>\n",
       "    <tr>\n",
       "      <th>15</th>\n",
       "      <td>13.68</td>\n",
       "      <td>19.922396</td>\n",
       "    </tr>\n",
       "    <tr>\n",
       "      <th>16</th>\n",
       "      <td>15.48</td>\n",
       "      <td>15.936956</td>\n",
       "    </tr>\n",
       "    <tr>\n",
       "      <th>17</th>\n",
       "      <td>12.60</td>\n",
       "      <td>12.361179</td>\n",
       "    </tr>\n",
       "    <tr>\n",
       "      <th>18</th>\n",
       "      <td>10.44</td>\n",
       "      <td>9.218475</td>\n",
       "    </tr>\n",
       "    <tr>\n",
       "      <th>19</th>\n",
       "      <td>13.80</td>\n",
       "      <td>21.245024</td>\n",
       "    </tr>\n",
       "    <tr>\n",
       "      <th>20</th>\n",
       "      <td>23.76</td>\n",
       "      <td>23.176294</td>\n",
       "    </tr>\n",
       "    <tr>\n",
       "      <th>21</th>\n",
       "      <td>15.48</td>\n",
       "      <td>20.337912</td>\n",
       "    </tr>\n",
       "    <tr>\n",
       "      <th>22</th>\n",
       "      <td>14.04</td>\n",
       "      <td>18.084763</td>\n",
       "    </tr>\n",
       "    <tr>\n",
       "      <th>23</th>\n",
       "      <td>13.56</td>\n",
       "      <td>12.636239</td>\n",
       "    </tr>\n",
       "    <tr>\n",
       "      <th>24</th>\n",
       "      <td>16.08</td>\n",
       "      <td>16.381733</td>\n",
       "    </tr>\n",
       "    <tr>\n",
       "      <th>25</th>\n",
       "      <td>26.04</td>\n",
       "      <td>20.724166</td>\n",
       "    </tr>\n",
       "    <tr>\n",
       "      <th>26</th>\n",
       "      <td>20.64</td>\n",
       "      <td>16.141788</td>\n",
       "    </tr>\n",
       "    <tr>\n",
       "      <th>27</th>\n",
       "      <td>7.92</td>\n",
       "      <td>8.685913</td>\n",
       "    </tr>\n",
       "    <tr>\n",
       "      <th>28</th>\n",
       "      <td>17.64</td>\n",
       "      <td>19.225968</td>\n",
       "    </tr>\n",
       "    <tr>\n",
       "      <th>29</th>\n",
       "      <td>20.88</td>\n",
       "      <td>23.773232</td>\n",
       "    </tr>\n",
       "    <tr>\n",
       "      <th>30</th>\n",
       "      <td>14.28</td>\n",
       "      <td>14.836717</td>\n",
       "    </tr>\n",
       "    <tr>\n",
       "      <th>31</th>\n",
       "      <td>24.84</td>\n",
       "      <td>25.411886</td>\n",
       "    </tr>\n",
       "    <tr>\n",
       "      <th>32</th>\n",
       "      <td>12.36</td>\n",
       "      <td>16.393438</td>\n",
       "    </tr>\n",
       "    <tr>\n",
       "      <th>33</th>\n",
       "      <td>16.80</td>\n",
       "      <td>14.239779</td>\n",
       "    </tr>\n",
       "    <tr>\n",
       "      <th>34</th>\n",
       "      <td>30.48</td>\n",
       "      <td>25.183645</td>\n",
       "    </tr>\n",
       "    <tr>\n",
       "      <th>35</th>\n",
       "      <td>12.96</td>\n",
       "      <td>10.388942</td>\n",
       "    </tr>\n",
       "    <tr>\n",
       "      <th>36</th>\n",
       "      <td>28.44</td>\n",
       "      <td>19.869725</td>\n",
       "    </tr>\n",
       "    <tr>\n",
       "      <th>37</th>\n",
       "      <td>20.52</td>\n",
       "      <td>20.835360</td>\n",
       "    </tr>\n",
       "    <tr>\n",
       "      <th>38</th>\n",
       "      <td>32.40</td>\n",
       "      <td>24.434546</td>\n",
       "    </tr>\n",
       "    <tr>\n",
       "      <th>39</th>\n",
       "      <td>13.08</td>\n",
       "      <td>10.453318</td>\n",
       "    </tr>\n",
       "  </tbody>\n",
       "</table>\n",
       "</div>"
      ],
      "text/plain": [
       "    Actual  Predicted\n",
       "0    15.84  16.200311\n",
       "1    18.24  19.536142\n",
       "2    11.40   9.727629\n",
       "3    14.76  22.263330\n",
       "4    14.88  14.655295\n",
       "5    14.40  23.615219\n",
       "6    20.76  19.413243\n",
       "7    11.64  13.935457\n",
       "8    11.40  10.072916\n",
       "9    15.12  12.624534\n",
       "10   15.36  18.588064\n",
       "11   15.48  13.397043\n",
       "12   22.80  18.254480\n",
       "13   18.84  22.234068\n",
       "14   26.64  22.912939\n",
       "15   13.68  19.922396\n",
       "16   15.48  15.936956\n",
       "17   12.60  12.361179\n",
       "18   10.44   9.218475\n",
       "19   13.80  21.245024\n",
       "20   23.76  23.176294\n",
       "21   15.48  20.337912\n",
       "22   14.04  18.084763\n",
       "23   13.56  12.636239\n",
       "24   16.08  16.381733\n",
       "25   26.04  20.724166\n",
       "26   20.64  16.141788\n",
       "27    7.92   8.685913\n",
       "28   17.64  19.225968\n",
       "29   20.88  23.773232\n",
       "30   14.28  14.836717\n",
       "31   24.84  25.411886\n",
       "32   12.36  16.393438\n",
       "33   16.80  14.239779\n",
       "34   30.48  25.183645\n",
       "35   12.96  10.388942\n",
       "36   28.44  19.869725\n",
       "37   20.52  20.835360\n",
       "38   32.40  24.434546\n",
       "39   13.08  10.453318"
      ]
     },
     "execution_count": 8,
     "metadata": {},
     "output_type": "execute_result"
    }
   ],
   "source": [
    "y_pred = regressor.predict(X_test)\n",
    "df = pd.DataFrame({'Actual': y_test.flatten(), 'Predicted': y_pred.flatten()})\n",
    "df"
   ]
  },
  {
   "cell_type": "code",
   "execution_count": 9,
   "metadata": {
    "colab": {
     "base_uri": "https://localhost:8080/",
     "height": 594
    },
    "colab_type": "code",
    "id": "lkPf_UG3gl-f",
    "outputId": "e0abb5ac-0da9-4af1-c79f-2c43ce934975"
   },
   "outputs": [
    {
     "data": {
      "image/png": "[encoded data removed]",
      "text/plain": [
       "<Figure size 1152x720 with 1 Axes>"
      ]
     },
     "metadata": {
      "needs_background": "light"
     },
     "output_type": "display_data"
    }
   ],
   "source": [
    "# Vizulize\n",
    "df1 = df.head(25)\n",
    "df1.plot(kind='bar',figsize=(16,10))\n",
    "plt.grid(which='major', linestyle='-', linewidth='0.5', color='green')\n",
    "plt.grid(which='minor', linestyle=':', linewidth='0.5', color='black')\n",
    "plt.show()"
   ]
  },
  {
   "cell_type": "code",
   "execution_count": 10,
   "metadata": {
    "colab": {
     "base_uri": "https://localhost:8080/",
     "height": 265
    },
    "colab_type": "code",
    "id": "rlztaPr9gn9d",
    "outputId": "024bdf8d-096f-461b-9954-9a7bfbb04a71"
   },
   "outputs": [
    {
     "data": {
      "image/png": "[encoded data removed]",
      "text/plain": [
       "<Figure size 432x288 with 1 Axes>"
      ]
     },
     "metadata": {
      "needs_background": "light"
     },
     "output_type": "display_data"
    }
   ],
   "source": [
    "# on scatter\n",
    "plt.scatter(X_test, y_test,  color='gray')\n",
    "plt.plot(X_test, y_pred, color='red', linewidth=2)\n",
    "plt.show()\n"
   ]
  },
  {
   "cell_type": "code",
   "execution_count": 11,
   "metadata": {},
   "outputs": [
    {
     "name": "stdout",
     "output_type": "stream",
     "text": [
      "Mean Absolute Error: 3.028942833087398\n",
      "Mean Squared Error: 15.529059302966383\n",
      "Root Mean Squared Error: 3.940692744044679\n"
     ]
    }
   ],
   "source": [
    "# show metrics\n",
    "print('Mean Absolute Error:', metrics.mean_absolute_error(y_test, y_pred))  \n",
    "print('Mean Squared Error:', metrics.mean_squared_error(y_test, y_pred))  \n",
    "print('Root Mean Squared Error:', np.sqrt(metrics.mean_squared_error(y_test, y_pred)))"
   ]
  },
  {
   "cell_type": "markdown",
   "metadata": {
    "colab_type": "text",
    "id": "oAtjdYN5LByM"
   },
   "source": [
    "For a given predictor variable, the coefficient (b) can be interpreted as the average effect on y of a one unit increase in predictor, holding all other predictors fixed.\n",
    "\n",
    "For example, for a fixed amount of youtube and newspaper advertising budget, spending an additional 1 000 dollars on facebook advertising leads to an increase in sales by approximately 0.1885*1000 = 189 sale units, on average.\n",
    "\n",
    "The youtube coefficient suggests that for every 1 000 dollars increase in youtube advertising budget, holding all other predictors constant, we can expect an increase of 0.045*1000 = 45 sales units, on average.\n",
    "\n",
    "We found that newspaper is not significant in the multiple regression model. This means that, for a fixed amount of youtube and newspaper advertising budget, changes in the newspaper advertising budget will not significantly affect sales units.\n",
    "\n",
    "As the newspaper variable is not significant, it is possible to remove it fro"
   ]
  },
  {
   "cell_type": "markdown",
   "metadata": {
    "colab_type": "text",
    "id": "gj8Ro5nio6qP"
   },
   "source": [
    "The output above shows the estimate of the regression beta coefficients (column Estimate) and their significance levels (column Pr(>|t|). The intercept (b0) is 8.38 and the coefficient of youtube variable is 0.046.\n",
    "\n",
    "The estimated regression equation can be written as follow: sales = 8.38 + 0.046*youtube. Using this formula, for each new youtube advertising budget, you can predict the number of sale units.\n",
    "\n",
    "For example:\n",
    "\n",
    "For a youtube advertising budget equal zero, we can expect a sale of 8.38 units.\n",
    "For a youtube advertising budget equal 1000, we can expect a sale of 8.38 + 0.046*1000 = 55 units.\n",
    "\n",
    "Predictions can be easily made using the R function predict(). In the following example, we predict sales units for two youtube advertising budget: 0 and 1000."
   ]
  },
  {
   "cell_type": "markdown",
   "metadata": {
    "colab_type": "text",
    "id": "mXaSjcZvU4jB"
   },
   "source": [
    "## Summary\n",
    "After computing a regression model, a first step is to check whether, at least, one predictor is significantly associated with outcome variables.\n",
    "\n",
    "If one or more predictors are significant, the second step is to assess how well the model fits the data by inspecting the Residuals Standard Error (RSE), the R2 value and the F-statistics. These metrics give the overall quality of the model."
   ]
  },
  {
   "cell_type": "markdown",
   "metadata": {
    "colab_type": "text",
    "id": "reJXRLQEpbH5"
   },
   "source": [
    "# Multiple Linear Regression\n",
    "\n",
    "sales = b0 + b1 * youtube  + b2 * facebook + b3 * newspaper + e\n",
    "\n",
    "\n",
    "Multiple linear regression is an extension of simple linear regression for predicting an outcome variable (y) on the basis of multiple distinct predictor variables (x).\n",
    "\n",
    "For example, with three predictor variables (x), the prediction of y is expressed by the following equation: y = b0 + b1*x1 + b2*x2 + b3*x3\n",
    "\n",
    "The regression beta coefficients measure the association between each predictor variable and the outcome. “b_j” can be interpreted as the average effect on y of a one unit increase in “x_j”, holding all other predictors fixed.\n",
    "\n",
    "In this section, we’ll build a multiple regression model to predict sales based on the budget invested in three advertising medias: youtube, facebook and newspaper. The formula is as follow: sales = b0 + b1*youtube + b2*facebook + b3*newspaper\n",
    "\n",
    "You can compute the multiple regression model coefficients in R as follow:"
   ]
  },
  {
   "cell_type": "code",
   "execution_count": 12,
   "metadata": {
    "colab": {
     "base_uri": "https://localhost:8080/",
     "height": 1000
    },
    "colab_type": "code",
    "id": "Xt2zUZh7gwnf",
    "outputId": "afe0c8f9-325e-4739-ad05-ea6260a33df6"
   },
   "outputs": [
    {
     "name": "stdout",
     "output_type": "stream",
     "text": [
      "          youtube    facebook   newspaper       sales\n",
      "count  200.000000  200.000000  200.000000  200.000000\n",
      "mean   176.451000   27.916800   36.664800   16.827000\n",
      "std    103.025084   17.816171   26.134345    6.260948\n",
      "min      0.840000    0.000000    0.360000    1.920000\n",
      "25%     89.250000   11.970000   15.300000   12.450000\n",
      "50%    179.700000   27.480000   30.900000   15.480000\n",
      "75%    262.590000   43.830000   54.120000   20.880000\n",
      "max    355.680000   59.520000  136.800000   32.400000\n"
     ]
    },
    {
     "data": {
      "image/png": "[encoded data removed]",
      "text/plain": [
       "<Figure size 432x288 with 1 Axes>"
      ]
     },
     "metadata": {
      "needs_background": "light"
     },
     "output_type": "display_data"
    },
    {
     "data": {
      "image/png": "[encoded data removed]",
      "text/plain": [
       "<Figure size 1080x720 with 1 Axes>"
      ]
     },
     "metadata": {
      "needs_background": "light"
     },
     "output_type": "display_data"
    }
   ],
   "source": [
    "import pandas as pd  \n",
    "import numpy as np  \n",
    "import matplotlib.pyplot as plt  \n",
    "import seaborn as seabornInstance \n",
    "from sklearn.model_selection import train_test_split \n",
    "from sklearn.linear_model import LinearRegression\n",
    "from sklearn import metrics\n",
    "%matplotlib inline\n",
    "dataset = pd.read_csv('data/marketing.csv' , index_col='Unnamed: 0' )\n",
    "print(dataset.describe())\n",
    "\n",
    "## visualize dataset\n",
    "dataset.plot(x='youtube', y='sales', style='o')  \n",
    "plt.title('youtube vs sales')  \n",
    "plt.xlabel('youtube')  \n",
    "plt.ylabel('sales')  \n",
    "plt.show()\n",
    "plt.figure(figsize=(15,10))\n",
    "plt.tight_layout()\n",
    "seabornInstance.distplot(dataset['sales'])\n",
    "\n",
    "dataset.isnull().any()\n",
    "dataset = dataset.fillna(method='ffill')"
   ]
  },
  {
   "cell_type": "code",
   "execution_count": 13,
   "metadata": {
    "colab": {
     "base_uri": "https://localhost:8080/",
     "height": 51
    },
    "colab_type": "code",
    "id": "8XQA-4sXgz3v",
    "outputId": "aa2805f1-8eee-423c-f4f9-d3f0de6f6c07"
   },
   "outputs": [
    {
     "name": "stdout",
     "output_type": "stream",
     "text": [
      "To retrieve the intercept:  [3.59387164]\n",
      "For retrieving the slope:  [[ 0.04458402  0.19649703 -0.00278146]]\n"
     ]
    }
   ],
   "source": [
    "\n",
    "# split data\n",
    "X = dataset[['youtube' , 'facebook' , 'newspaper']].values\n",
    "y = dataset[['sales']].values\n",
    "\n",
    "X_train, X_test, y_train, y_test = train_test_split(X, y, test_size=0.2, random_state=0)\n",
    "regressor = LinearRegression().fit(X_train, y_train) #training the algorithm\n",
    "\n",
    "#To retrieve the intercept:\n",
    "print(\"To retrieve the intercept: \" , regressor.intercept_)\n",
    "#For retrieving the slope:\n",
    "print(\"For retrieving the slope: \" , regressor.coef_)\n"
   ]
  },
  {
   "cell_type": "code",
   "execution_count": 14,
   "metadata": {
    "colab": {
     "base_uri": "https://localhost:8080/",
     "height": 204
    },
    "colab_type": "code",
    "id": "0DZwXl_rg2cV",
    "outputId": "15b4cc03-397b-4352-c532-3f2a3e8752b1"
   },
   "outputs": [
    {
     "name": "stdout",
     "output_type": "stream",
     "text": [
      "   Actual  Predicted\n",
      "0   13.56  12.068875\n",
      "1   10.08   8.942737\n",
      "2   10.44   8.423649\n",
      "3   30.48  28.896357\n",
      "4   14.04  14.421435\n",
      "5   10.44   7.845526\n",
      "6    8.64  15.339443\n",
      "7   15.84  18.131695\n",
      "8   11.04  12.923688\n",
      "9   19.92  19.612295\n"
     ]
    }
   ],
   "source": [
    "y_pred = regressor.predict(X_test)\n",
    "df = pd.DataFrame({'Actual': y_test.flatten(), 'Predicted': y_pred.flatten()})\n",
    "print(df.head(10))"
   ]
  },
  {
   "cell_type": "code",
   "execution_count": 15,
   "metadata": {
    "colab": {
     "base_uri": "https://localhost:8080/",
     "height": 594
    },
    "colab_type": "code",
    "id": "DU-FUv2Fx8Dq",
    "outputId": "0892afcc-5bde-4d2c-96b2-c64bed4c2dac"
   },
   "outputs": [
    {
     "data": {
      "image/png": "[encoded data removed]",
      "text/plain": [
       "<Figure size 1152x720 with 1 Axes>"
      ]
     },
     "metadata": {
      "needs_background": "light"
     },
     "output_type": "display_data"
    }
   ],
   "source": [
    "# Vizulize\n",
    "df1 = df.head(25)\n",
    "df1.plot(kind='bar',figsize=(16,10))\n",
    "plt.grid(which='major', linestyle='-', linewidth='0.5', color='green')\n",
    "plt.grid(which='minor', linestyle=':', linewidth='0.5', color='black')\n",
    "plt.show()"
   ]
  },
  {
   "cell_type": "code",
   "execution_count": 16,
   "metadata": {
    "colab": {
     "base_uri": "https://localhost:8080/",
     "height": 102
    },
    "colab_type": "code",
    "id": "L3aHA6CO7f3H",
    "outputId": "dbe4bb1e-2fa1-4b35-d535-e069ea35b3fe"
   },
   "outputs": [
    {
     "name": "stdout",
     "output_type": "stream",
     "text": [
      "Mean Absolute Error: 1.6341376202508333\n",
      "Mean Squared Error: 6.339050339687548\n",
      "Root Mean Squared Error: 2.5177470761948166\n",
      "R Score 0.9067114990146382\n",
      "An error rate:  0.15843855491755185\n"
     ]
    }
   ],
   "source": [
    "print('Mean Absolute Error:', metrics.mean_absolute_error(y_test, y_pred))  \n",
    "print('Mean Squared Error:', metrics.mean_squared_error(y_test, y_pred))  \n",
    "print('Root Mean Squared Error:', np.sqrt(metrics.mean_squared_error(y_test, y_pred)))\n",
    "print(\"R Score\" , regressor.score(X_train, y_train)) \n",
    "print(\"An error rate: \" ,np.sqrt(metrics.mean_squared_error(y_test, y_pred)) / np.mean(y_test))"
   ]
  },
  {
   "cell_type": "markdown",
   "metadata": {
    "colab_type": "text",
    "id": "6s-lqkkNg6K1"
   },
   "source": [
    "## Apply statsmodels"
   ]
  },
  {
   "cell_type": "code",
   "execution_count": 17,
   "metadata": {
    "colab": {
     "base_uri": "https://localhost:8080/",
     "height": 476
    },
    "colab_type": "code",
    "id": "9LEXTcTF2iSY",
    "outputId": "ef1576b3-9b76-461d-dba3-b39c1844a984"
   },
   "outputs": [
    {
     "name": "stdout",
     "output_type": "stream",
     "text": [
      "                            OLS Regression Results                            \n",
      "==============================================================================\n",
      "Dep. Variable:                  sales   R-squared:                       0.907\n",
      "Model:                            OLS   Adj. R-squared:                  0.905\n",
      "Method:                 Least Squares   F-statistic:                     505.4\n",
      "Date:                Sun, 14 Jun 2020   Prob (F-statistic):           4.23e-80\n",
      "Time:                        23:53:01   Log-Likelihood:                -326.47\n",
      "No. Observations:                 160   AIC:                             660.9\n",
      "Df Residuals:                     156   BIC:                             673.2\n",
      "Df Model:                           3                                         \n",
      "Covariance Type:            nonrobust                                         \n",
      "==============================================================================\n",
      "                 coef    std err          t      P>|t|      [0.025      0.975]\n",
      "------------------------------------------------------------------------------\n",
      "const          3.5939      0.396      9.076      0.000       2.812       4.376\n",
      "youtube        0.0446      0.001     30.212      0.000       0.042       0.047\n",
      "facebook       0.1965      0.009     21.994      0.000       0.179       0.214\n",
      "newspaper     -0.0028      0.006     -0.451      0.653      -0.015       0.009\n",
      "==============================================================================\n",
      "Omnibus:                       13.557   Durbin-Watson:                   2.038\n",
      "Prob(Omnibus):                  0.001   Jarque-Bera (JB):               15.174\n",
      "Skew:                          -0.754   Prob(JB):                     0.000507\n",
      "Kurtosis:                       2.990   Cond. No.                         562.\n",
      "==============================================================================\n",
      "\n",
      "Warnings:\n",
      "[1] Standard Errors assume that the covariance matrix of the errors is correctly specified.\n"
     ]
    }
   ],
   "source": [
    "import pandas as pd\n",
    "import statsmodels.api as sm\n",
    "\n",
    "\n",
    "df = pd.read_csv(\"data/marketing.csv\" , index_col='Unnamed: 0')\n",
    "X = df[['youtube', 'facebook', 'newspaper']] # here we have 2 variables for the multiple linear regression. If you just want to use one variable for simple linear regression, then use X = df['Interest_Rate'] for example\n",
    "Y = df['sales']\n",
    "X_train, X_test, y_train, y_test = train_test_split(X, Y, test_size=0.2, random_state=0)\n",
    "\n",
    "X_train= sm.add_constant(X_train) # adding a constant\n",
    "X_test= sm.add_constant(X_test) # adding a constant\n",
    "\n",
    "model = sm.OLS(y_train, X_train).fit()\n",
    "y_pred = model.predict(X_test) \n",
    "\n",
    "print_model = model.summary()\n",
    "print(print_model)\n",
    "\n",
    "\n",
    "df_result = pd.DataFrame({'Actual': y_test, 'Predicted': y_pred})\n",
    "\n"
   ]
  },
  {
   "cell_type": "code",
   "execution_count": 18,
   "metadata": {
    "colab": {
     "base_uri": "https://localhost:8080/",
     "height": 102
    },
    "colab_type": "code",
    "id": "eJgKjx1l5GV8",
    "outputId": "280ca1f8-5c9e-460e-d4d2-83f6a8eae41f"
   },
   "outputs": [
    {
     "name": "stdout",
     "output_type": "stream",
     "text": [
      "Mean Absolute Error: 1.6341376202508333\n",
      "Mean Squared Error: 6.339050339687543\n",
      "Root Mean Squared Error: 2.5177470761948157\n",
      "R- Squared:  0.9067114990146383\n",
      "An error rate:  0.1584385549175518\n"
     ]
    }
   ],
   "source": [
    "print('Mean Absolute Error:', metrics.mean_absolute_error(y_test, y_pred))  \n",
    "print('Mean Squared Error:', metrics.mean_squared_error(y_test, y_pred))  \n",
    "print('Root Mean Squared Error:', np.sqrt(metrics.mean_squared_error(y_test, y_pred)))\n",
    "print(\"R- Squared: \" , model.rsquared)\n",
    "print(\"An error rate: \" ,np.sqrt(metrics.mean_squared_error(y_test, y_pred)) / np.mean(y_test))"
   ]
  },
  {
   "cell_type": "markdown",
   "metadata": {
    "colab_type": "text",
    "id": "M1ajqtOywT0t"
   },
   "source": [
    "From the output above, the coefficients table shows the beta coefficient estimates and their significance levels. Columns are:\n",
    "\n",
    "Estimate: the intercept (b0) and the beta coefficient estimates associated to each predictor variable\n",
    "\n",
    "predictionsStd.Error: the standard error of the coefficient estimates. This represents the accuracy of the coefficients. The larger the standard error, the less confident we are about the estimate.\n",
    "\n",
    "\n",
    "t value: the t-statistic, which is the coefficient estimate (column 2) divided by the standard error of the estimate (column 3)\n",
    "Pr(>|t|): The p-value corresponding to the t-statistic. The smaller the p-value, the more significant the estimate is."
   ]
  },
  {
   "cell_type": "code",
   "execution_count": 19,
   "metadata": {
    "colab": {
     "base_uri": "https://localhost:8080/",
     "height": 102
    },
    "colab_type": "code",
    "id": "H0PUIPzg8fYd",
    "outputId": "b4bcd6ce-97e8-43ae-8947-b47d5b8c593b"
   },
   "outputs": [
    {
     "data": {
      "text/plain": [
       "const        3.593872\n",
       "youtube      0.044584\n",
       "facebook     0.196497\n",
       "newspaper   -0.002781\n",
       "dtype: float64"
      ]
     },
     "execution_count": 19,
     "metadata": {},
     "output_type": "execute_result"
    }
   ],
   "source": [
    "model.params"
   ]
  },
  {
   "cell_type": "markdown",
   "metadata": {
    "colab_type": "text",
    "id": "YBjnnOY2bv9f"
   },
   "source": [
    "## Interpretation\n",
    "\n",
    "\n",
    "\n",
    "The first step in interpreting the multiple regression analysis is to examine the F-statistic and the associated p-value, at the bottom of model summary.\n",
    "\n",
    "In our example, it can be seen that p-value of the F-statistic is < 2.2e-16, which is highly significant. This means that, at least, one of the predictor variables is significantly related to the outcome variable.\n",
    "\n",
    "To see which predictor variables are significant, you can examine the coefficients table, which shows the estimate of regression beta coefficients and the associated t-statitic p-values:"
   ]
  },
  {
   "cell_type": "markdown",
   "metadata": {
    "colab_type": "text",
    "id": "Vpw7ssz5Kqyf"
   },
   "source": [
    "Note that, if you have many predictor variables in your data, you can simply include all the available variables in the model using ~.:"
   ]
  },
  {
   "cell_type": "markdown",
   "metadata": {
    "colab_type": "text",
    "id": "OVwn13lCuFux"
   },
   "source": [
    "because newspaper does not have significat p-value, we remove it.\n",
    "\n",
    "our model equation can be written as follow\n",
    "\n",
    "\n",
    "sales = 3.52 + 0.046 * youtube + 0.188 * facebook -0.001 * newspaper"
   ]
  },
  {
   "cell_type": "markdown",
   "metadata": {
    "colab_type": "text",
    "id": "idY70qghMCvN"
   },
   "source": [
    "## Discussion\n",
    "This chapter describes the basics of linear regression and provides practical examples in R for computing simple and multiple linear regression models. We also described how to assess the performance of the model for predictions.\n",
    "\n",
    "Note that, linear regression assumes a linear relationship between the outcome and the predictor variables. This can be easily checked by creating a scatter plot of the outcome variable vs the predictor variable.\n",
    "\n",
    "For example, the following R code displays sales units versus youtube advertising budget. We’ll also add a smoothed line:"
   ]
  },
  {
   "cell_type": "markdown",
   "metadata": {},
   "source": [
    "## Confidence interval\n",
    "The confidence interval reflects the uncertainty around the mean predictions. To display the 95% confidence intervals around the mean the predictions, specify the option interval = \"confidence\":"
   ]
  },
  {
   "cell_type": "markdown",
   "metadata": {},
   "source": [
    "## Prediction interval\n",
    "The prediction interval gives uncertainty around a single value. In the same way, as the confidence intervals, the prediction intervals can be computed as follow:"
   ]
  },
  {
   "cell_type": "markdown",
   "metadata": {},
   "source": [
    "Which one should we use? The answer to this question depends on the context and the purpose of the analysis. Generally, we are interested in specific individual predictions, so a prediction interval would be more appropriate. Using a confidence interval when you should be using a prediction interval will greatly underestimate the uncertainty in a given predicted value (P. Bruce and Bruce 2017)."
   ]
  },
  {
   "cell_type": "markdown",
   "metadata": {},
   "source": []
  },
  {
   "cell_type": "code",
   "execution_count": null,
   "metadata": {},
   "outputs": [],
   "source": []
  }
 ],
 "metadata": {
  "colab": {
   "collapsed_sections": [],
   "name": "Linear Regression Essentials.ipynb",
   "provenance": []
  },
  "kernelspec": {
   "display_name": "Python 3",
   "language": "python",
   "name": "python3"
  },
  "language_info": {
   "codemirror_mode": {
    "name": "ipython",
    "version": 3
   },
   "file_extension": ".py",
   "mimetype": "text/x-python",
   "name": "python",
   "nbconvert_exporter": "python",
   "pygments_lexer": "ipython3",
   "version": "3.7.7"
  }
 },
 "nbformat": 4,
 "nbformat_minor": 1
}
